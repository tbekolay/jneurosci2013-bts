{
 "metadata": {
  "name": ""
 },
 "nbformat": 3,
 "nbformat_minor": 0,
 "worksheets": [
  {
   "cells": [
    {
     "cell_type": "markdown",
     "metadata": {},
     "source": [
      "# Bekolay, Laubach & Eliasmith, 2014 behind the scenes\n",
      "\n",
      "[A spiking neural integrator model of the adaptive control of action by the medial prefrontal cortex](http://www.jneurosci.org/content/34/5.author-index) (should be published next Wednesday)"
     ]
    },
    {
     "cell_type": "code",
     "collapsed": false,
     "input": [
      "from IPython.display import FileLink\n",
      "FileLink('paper.pdf')"
     ],
     "language": "python",
     "metadata": {},
     "outputs": [
      {
       "html": [
        "<a href='files/paper.pdf' target='_blank'>paper.pdf</a><br>"
       ],
       "metadata": {},
       "output_type": "pyout",
       "prompt_number": 1,
       "text": [
        "/Users/Trevor/Code/jneurosci2013-bts/paper.pdf"
       ]
      }
     ],
     "prompt_number": 1
    },
    {
     "cell_type": "markdown",
     "metadata": {},
     "source": [
      "This builds on some of the tips and techniques I talked about at SciPy 2013.\n",
      "The SciPy talk is more big picture and talks about file organization and the like.\n",
      "This talk is more concrete, showing several tools and how to use them."
     ]
    },
    {
     "cell_type": "code",
     "collapsed": false,
     "input": [
      "from IPython.display import YouTubeVideo\n",
      "YouTubeVideo('Y-XFNg0QS14')"
     ],
     "language": "python",
     "metadata": {},
     "outputs": [
      {
       "html": [
        "\n",
        "        <iframe\n",
        "            width=\"400\"\n",
        "            height=300\"\n",
        "            src=\"http://www.youtube.com/embed/Y-XFNg0QS14\"\n",
        "            frameborder=\"0\"\n",
        "            allowfullscreen\n",
        "        ></iframe>\n",
        "        "
       ],
       "metadata": {},
       "output_type": "pyout",
       "prompt_number": 2,
       "text": [
        "<IPython.lib.display.YouTubeVideo at 0x10ac6c950>"
       ]
      }
     ],
     "prompt_number": 2
    },
    {
     "cell_type": "markdown",
     "metadata": {},
     "source": [
      "# Tasks\n",
      "## 1. Research tasks\n",
      "\n",
      "Doing the research involved:\n",
      "\n",
      "- experimental data analysis\n",
      "- dynamical systems simulation and analysis\n",
      "- Nengo simulation and analysis.\n",
      "\n",
      "The simulation workflow is something like:\n",
      "\n",
      "1. Brainstorm, whiteboard, scribble.\n",
      "2. Write code and do small simulations interactively.\n",
      "3. Extract the useful parts to functions that spit out data.\n",
      "3. Run many larger simulations.\n",
      "4. Analyze, then return to 1.\n",
      "\n",
      "The analysis workflow is something like:\n",
      "\n",
      "1. Do some exploratory analysis on a subset of data to figure out how to show what you want to show.\n",
      "2. Extract the useful parts to functions that do the analysis and plotting.\n",
      "3. Run on all of the data.\n",
      "4. Repeat simulation, or steps 1. and 2. as necessary.\n",
      "\n",
      "## 2. Paper tasks\n",
      "\n",
      "With the research at a decent place (though certainly not finished):\n",
      "\n",
      "1. Create a set of figures that tells your story.\n",
      "2. Write verbose legends for your figures.\n",
      "3. Start with the structure of a normal paper (Introduction, Methods, etc) and pull in parts of your legends where appropriate.\n",
      "4. Fill in the gaps and edit.\n",
      "5. Edit some more.\n",
      "6. Get feedback and return to any step above."
     ]
    },
    {
     "cell_type": "markdown",
     "metadata": {},
     "source": [
      "# Tools\n",
      "## Python\n",
      "\n",
      "- [virtualenv & virtualenvwrapper](02-virtualenv.ipynb) to keep the Python environment organized\n",
      "- [IPython notebook](03-ipython.ipynb) for exploratory work\n",
      "- [neo](04-neo.ipynb) for doing experimental and simulated data analysis\n",
      "- [svgutils](05-svgutils.ipynb) for combining multiple plots into a single figure\n",
      "- [doit](06-doit.ipynb) for managing the whole project and getting a command line interface, caching, and parallelization for free\n",
      "\n",
      "## Publishing\n",
      "\n",
      "- [Github releases](07-git.ipynb) for being explicit about what code was used to generate figures\n",
      "- [figshare](08-figshare.ipynb) for storing data\n",
      "\n",
      "## LaTeX\n",
      "\n",
      "- [latexdiff](09-latexdiff.ipynb) for tracking changes between two versions of a document"
     ]
    }
   ],
   "metadata": {}
  }
 ]
}