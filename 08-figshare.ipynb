{
 "metadata": {
  "name": ""
 },
 "nbformat": 3,
 "nbformat_minor": 0,
 "worksheets": [
  {
   "cells": [
    {
     "cell_type": "markdown",
     "metadata": {},
     "source": [
      "# Sharing large amounts of data\n",
      "\n",
      "If you're willing to share your data,\n",
      "you can do it through a Github release.\n",
      "However, releases aren't necessarily\n",
      "set up for this, and it's not clear\n",
      "that these files will always be available.\n",
      "\n",
      "[fig**share**](http://figshare.com) is a website\n",
      "that is devoted to storing data (and other research outputs).\n",
      "There are a few concrete benefits to storing\n",
      "your data on figshare:\n",
      "\n",
      "- Unlimited public storage (plus a few gigs of private storage)\n",
      "- [Committment to data persistence](http://figshare.com/blog/Ensuring%20persistence%20on%20figshare/25)\n",
      "- Files are given a DOI and are citeable\n",
      "- API for accessing files programmatically\n",
      "\n",
      "figshare has also partnered with several publishers,\n",
      "and have made it easy for other web services\n",
      "to hook into figshare."
     ]
    },
    {
     "cell_type": "code",
     "collapsed": false,
     "input": [
      "from IPython.display import HTML\n",
      "HTML('<iframe src=\"http://wl.figshare.com/articles/715887/embed?show_title=1\" width=\"568\" height=\"485\" frameborder=\"0\"></iframe>')"
     ],
     "language": "python",
     "metadata": {},
     "outputs": [
      {
       "html": [
        "<iframe src=\"http://wl.figshare.com/articles/715887/embed?show_title=1\" width=\"568\" height=\"485\" frameborder=\"0\"></iframe>"
       ],
       "metadata": {},
       "output_type": "pyout",
       "prompt_number": 1,
       "text": [
        "<IPython.core.display.HTML at 0x111391750>"
       ]
      }
     ],
     "prompt_number": 1
    },
    {
     "cell_type": "code",
     "collapsed": false,
     "input": [
      "# Example using the figshare API\n",
      "import json\n",
      "import requests\n",
      "r = requests.get(\"http://api.figshare.com/v1/articles/715887\")\n",
      "detail = json.loads(r.content)\n",
      "for file_info in sorted(detail['items'][0]['files']):\n",
      "    print file_info['name'] + ': ' + file_info['size']"
     ],
     "language": "python",
     "metadata": {},
     "outputs": [
      {
       "output_type": "stream",
       "stream": "stdout",
       "text": [
        "ctrl-adaptive-35.h5: 61.11 MB\n",
        "ctrl-adaptive-600.h5: 69.12 MB\n",
        "ctrl-adaptive-426.h5: 61.11 MB\n",
        "ctrl-adaptive-39.h5: 91.63 MB\n",
        "ctrl-adaptive-601.h5: 69.09 MB\n",
        "ctrl-adaptive-700.h5: 61.11 MB\n",
        "ctrl-adaptive-702.h5: 61.11 MB\n",
        "ctrl-adaptive-707.h5: 61.11 MB\n",
        "ctrl-adaptive-703.h5: 61.12 MB\n",
        "ctrl-adaptive-706.h5: 61.11 MB\n",
        "ctrl-simple-308.h5: 68.74 MB\n",
        "ctrl-simple-93.h5: 76.37 MB\n",
        "ctrl-simple-342.h5: 57.29 MB\n",
        "ctrl-simple-437.h5: 38.21 MB\n",
        "ctrl-adaptive-761.h5: 91.64 MB\n",
        "ctrl-simple-420.h5: 57.29 MB\n",
        "ctrl-simple-606.h5: 15.90 MB\n",
        "ctrl-simple-620.h5: 38.21 MB\n",
        "ctrl-simple-702.h5: 30.59 MB\n",
        "ctrl-simple-658.h5: 57.29 MB\n",
        "ctrl-simple-857.h5: 68.74 MB\n",
        "dint-cc-917.h5: 40.66 MB\n",
        "ctrl-simple-996.h5: 68.74 MB\n",
        "dint-pc-931.h5: 40.44 MB\n",
        "dint-lc-931.h5: 40.61 MB\n",
        "dint_other.zip: 92.66 MB\n"
       ]
      }
     ],
     "prompt_number": 2
    },
    {
     "cell_type": "markdown",
     "metadata": {},
     "source": [
      "# Resources\n",
      "\n",
      "- [About fig**share**](http://figshare.com/about)\n",
      "- [My `doit` task to download data](https://github.com/tbekolay/jneurosci2013/blob/master/dodo.py#L41)"
     ]
    }
   ],
   "metadata": {}
  }
 ]
}