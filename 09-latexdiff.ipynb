{
 "metadata": {
  "name": ""
 },
 "nbformat": 3,
 "nbformat_minor": 0,
 "worksheets": [
  {
   "cells": [
    {
     "cell_type": "markdown",
     "metadata": {},
     "source": [
      "# You didn't track changes?\n",
      "\n",
      "Collaborators and reviewers don't want to\n",
      "wade through your paper with an old version\n",
      "to figure out what's changed.\n",
      "Many will ask you to use Word or a similar program\n",
      "because it has a Track Changes feature.\n",
      "But even with those tools,\n",
      "you can forget to hit the Track Changes button.\n",
      "\n",
      "In fact, J. Neuroscience wanted a version\n",
      "of the revised paper with changes tracked.\n",
      "I didn't see this in reading the author guidelines,\n",
      "so if I had been using Word\n",
      "I would have been screwed.\n",
      "\n",
      "Fortunately, I was using LaTeX, which is just plain text,\n",
      "and `git`, which keeps track of changes in plain text files.\n",
      "Using a tool called `latexdiff`,\n",
      "I was able to visualize the differences\n",
      "in my original and revised paper quickly."
     ]
    },
    {
     "cell_type": "code",
     "collapsed": false,
     "input": [
      "# Document 1\n",
      "!cat text.tex"
     ],
     "language": "python",
     "metadata": {},
     "outputs": [
      {
       "output_type": "stream",
       "stream": "stdout",
       "text": [
        "\\documentclass{article}\r\n",
        "\\nofiles\r\n",
        "\\begin{document}\r\n",
        "  Hello world!\r\n",
        "\\end{document}\r\n"
       ]
      }
     ],
     "prompt_number": 1
    },
    {
     "cell_type": "code",
     "collapsed": false,
     "input": [
      "# Document 2\n",
      "!cat text2.tex"
     ],
     "language": "python",
     "metadata": {},
     "outputs": [
      {
       "output_type": "stream",
       "stream": "stdout",
       "text": [
        "\\documentclass{article}\r\n",
        "\\nofiles\r\n",
        "\\begin{document}\r\n",
        "  Goodbye world!\r\n",
        "  It's been fun.\r\n",
        "\\end{document}\r\n"
       ]
      }
     ],
     "prompt_number": 2
    },
    {
     "cell_type": "code",
     "collapsed": false,
     "input": [
      "from IPython.display import FileLinks\n",
      "FileLinks('.', included_suffixes=[\".pdf\"])"
     ],
     "language": "python",
     "metadata": {},
     "outputs": [
      {
       "html": [
        "./<br>\n",
        "&nbsp;&nbsp;<a href='files/./paper.pdf' target='_blank'>paper.pdf</a><br>\n",
        "&nbsp;&nbsp;<a href='files/./text.pdf' target='_blank'>text.pdf</a><br>\n",
        "&nbsp;&nbsp;<a href='files/./text2.pdf' target='_blank'>text2.pdf</a><br>"
       ],
       "metadata": {},
       "output_type": "pyout",
       "prompt_number": 5,
       "text": [
        "./\n",
        "  paper.pdf\n",
        "  text.pdf\n",
        "  text2.pdf"
       ]
      }
     ],
     "prompt_number": 5
    },
    {
     "cell_type": "code",
     "collapsed": false,
     "input": [
      "# Usage: latexdiff old-file.tex new-file.tex > diff-file.tex\n",
      "!latexdiff text.tex text2.tex > text-diff.tex"
     ],
     "language": "python",
     "metadata": {},
     "outputs": [],
     "prompt_number": 6
    },
    {
     "cell_type": "code",
     "collapsed": false,
     "input": [
      "!pdflatex -interaction=batchmode text-diff.tex"
     ],
     "language": "python",
     "metadata": {},
     "outputs": [
      {
       "output_type": "stream",
       "stream": "stdout",
       "text": [
        "This is pdfTeX, Version 3.1415926-2.5-1.40.14 (TeX Live 2013)\r\n",
        " restricted \\write18 enabled.\r\n",
        "entering extended mode\r\n"
       ]
      }
     ],
     "prompt_number": 7
    },
    {
     "cell_type": "code",
     "collapsed": false,
     "input": [
      "from IPython.display import FileLinks\n",
      "FileLinks('.', included_suffixes=[\".pdf\"])"
     ],
     "language": "python",
     "metadata": {},
     "outputs": [
      {
       "html": [
        "./<br>\n",
        "&nbsp;&nbsp;<a href='files/./paper.pdf' target='_blank'>paper.pdf</a><br>\n",
        "&nbsp;&nbsp;<a href='files/./text-diff.pdf' target='_blank'>text-diff.pdf</a><br>\n",
        "&nbsp;&nbsp;<a href='files/./text.pdf' target='_blank'>text.pdf</a><br>\n",
        "&nbsp;&nbsp;<a href='files/./text2.pdf' target='_blank'>text2.pdf</a><br>"
       ],
       "metadata": {},
       "output_type": "pyout",
       "prompt_number": 8,
       "text": [
        "./\n",
        "  paper.pdf\n",
        "  text-diff.pdf\n",
        "  text.pdf\n",
        "  text2.pdf"
       ]
      }
     ],
     "prompt_number": 8
    },
    {
     "cell_type": "markdown",
     "metadata": {},
     "source": [
      "# Resources\n",
      "\n",
      "- [Blog post on `latexdiff`](https://www.sharelatex.com/blog/2013/02/16/using-latexdiff-for-marking-changes-to-tex-documents.html)\n",
      "- [`latexdiff` homepage](http://latexdiff.berlios.de/)\n",
      "- [My changes from submitted to revised version](https://github.com/tbekolay/jneurosci2013/releases/download/2013-11-29/paper-diff.pdf)"
     ]
    }
   ],
   "metadata": {}
  }
 ]
}