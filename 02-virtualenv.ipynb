{
 "metadata": {
  "name": ""
 },
 "nbformat": 3,
 "nbformat_minor": 0,
 "worksheets": [
  {
   "cells": [
    {
     "cell_type": "markdown",
     "metadata": {},
     "source": [
      "# Dependency hell\n",
      "\n",
      "Free libraries save you a lot of time,\n",
      "but cause issues reproducing results.\n",
      "You might use a library when it's version 2.0,\n",
      "but when it upgrades to version 3.0\n",
      "your code doesn't work anymore,\n",
      "and you don't know what version of the library worked.\n",
      "\n",
      "While this is difficult to solve in general\n",
      "(though there have been attemps; e.g., [CDE](http://www.pgbovine.net/cde.html)),\n",
      "for Python this is a manageable problem\n",
      "thanks to the [Python package index](https://pypi.python.org/pypi),\n",
      "`virtualenv`, and `virtualenvwrapper`.\n",
      "\n",
      "## A Python environment\n",
      "\n",
      "Python runs within an environment\n",
      "that tells it where to find certain files,\n",
      "and affects in behavior in other ways.\n",
      "The Python installer usually sets this all up for you.\n",
      "\n",
      "Here's some information about Python's normal environment."
     ]
    },
    {
     "cell_type": "code",
     "collapsed": false,
     "input": [
      "!/usr/local/bin/python -m site"
     ],
     "language": "python",
     "metadata": {},
     "outputs": [
      {
       "output_type": "stream",
       "stream": "stdout",
       "text": [
        "sys.path = [\r\n",
        "    '/Users/Trevor/Code/jneurosci2013-bts',\r\n",
        "    '/usr/local/Cellar/python/2.7.6/Frameworks/Python.framework/Versions/2.7/lib/python2.7/site-packages/pip-1.4.1-py2.7.egg',\r\n",
        "    '/usr/local/Cellar/python/2.7.6/Frameworks/Python.framework/Versions/2.7/lib/python2.7/site-packages/setuptools-1.3.2-py2.7.egg',\r\n",
        "    '/usr/local/lib/python2.7/site-packages/pip-1.4.1-py2.7.egg',\r\n",
        "    '/usr/local/lib/python2.7/site-packages/setuptools-1.3.2-py2.7.egg',\r\n",
        "    '/usr/local/Cellar/python/2.7.6/Frameworks/Python.framework/Versions/2.7/lib/python27.zip',\r\n",
        "    '/usr/local/Cellar/python/2.7.6/Frameworks/Python.framework/Versions/2.7/lib/python2.7',\r\n",
        "    '/usr/local/Cellar/python/2.7.6/Frameworks/Python.framework/Versions/2.7/lib/python2.7/plat-darwin',\r\n",
        "    '/usr/local/Cellar/python/2.7.6/Frameworks/Python.framework/Versions/2.7/lib/python2.7/plat-mac',\r\n",
        "    '/usr/local/Cellar/python/2.7.6/Frameworks/Python.framework/Versions/2.7/lib/python2.7/plat-mac/lib-scriptpackages',\r\n",
        "    '/usr/local/Cellar/python/2.7.6/Fra"
       ]
      },
      {
       "output_type": "stream",
       "stream": "stdout",
       "text": [
        "meworks/Python.framework/Versions/2.7/lib/python2.7/lib-tk',\r\n",
        "    '/usr/local/Cellar/python/2.7.6/Frameworks/Python.framework/Versions/2.7/lib/python2.7/lib-old',\r\n",
        "    '/usr/local/Cellar/python/2.7.6/Frameworks/Python.framework/Versions/2.7/lib/python2.7/lib-dynload',\r\n",
        "    '/Library/Python/2.7/site-packages',\r\n",
        "    '/usr/local/lib/python2.7/site-packages',\r\n",
        "    '/usr/local/Cellar/python/2.7.6/Frameworks/Python.framework/Versions/2.7/lib/python2.7/site-packages',\r\n",
        "]\r\n",
        "USER_BASE: '/Users/Trevor/Library/Python/2.7' (doesn't exist)\r\n",
        "USER_SITE: '/Users/Trevor/Library/Python/2.7/lib/python/site-packages' (doesn't exist)\r\n",
        "ENABLE_USER_SITE: True\r\n"
       ]
      }
     ],
     "prompt_number": 20
    },
    {
     "cell_type": "markdown",
     "metadata": {},
     "source": [
      "`dist-packages` and `site-packages` are where Python\n",
      "stores the packages that you install with\n",
      "`easy_install`, `pip`, `apt-get`, etc.\n",
      "You can get a list of what packages are installed\n",
      "with `pip`, if it's installed."
     ]
    },
    {
     "cell_type": "code",
     "collapsed": false,
     "input": [
      "!/usr/local/bin/pip freeze"
     ],
     "language": "python",
     "metadata": {},
     "outputs": [
      {
       "output_type": "stream",
       "stream": "stdout",
       "text": [
        "bzr==2.6.0\r\n",
        "docopt==0.6.1\r\n",
        "lxml==3.2.3\r\n",
        "mercurial==2.7.2\r\n",
        "numpy==1.7.1\r\n",
        "stevedore==0.10\r\n",
        "virtualenv==1.10.1\r\n",
        "virtualenv-clone==0.2.4\r\n",
        "virtualenvwrapper==4.1.1\r\n",
        "wsgiref==0.1.2\r\n",
        "youtube-dl==2013.11.29\r\n"
       ]
      }
     ],
     "prompt_number": 31
    },
    {
     "cell_type": "markdown",
     "metadata": {},
     "source": [
      "You get a `site-packages` directory\n",
      "in your home folder (`/home/tbekolay/` for me)\n",
      "so that you can install packages without administrator access."
     ]
    },
    {
     "cell_type": "code",
     "collapsed": false,
     "input": [
      "!/usr/local/bin/pip install --user --install-option=\"--prefix=\" doit"
     ],
     "language": "python",
     "metadata": {},
     "outputs": [
      {
       "output_type": "stream",
       "stream": "stdout",
       "text": [
        "Downloading/unpacking doit\r\n"
       ]
      },
      {
       "output_type": "stream",
       "stream": "stdout",
       "text": [
        "  Downloading doit-0.24.0.tar.gz (340kB): "
       ]
      },
      {
       "output_type": "stream",
       "stream": "stdout",
       "text": [
        "\r",
        "  Downloading doit-0.24.0.tar.gz (340kB):   1%  4.1kB\r",
        "  Downloading doit-0.24.0.tar.gz (340kB):   2%  8.2kB\r",
        "  Downloading doit-0.24.0.tar.gz (340kB):   3%  12kB \r",
        "  Downloading doit-0.24.0.tar.gz (340kB):   4%  16kB"
       ]
      },
      {
       "output_type": "stream",
       "stream": "stdout",
       "text": [
        "\r",
        "  Downloading doit-0.24.0.tar.gz (340kB):   6%  20kB\r",
        "  Downloading doit-0.24.0.tar.gz (340kB):   7%  24kB"
       ]
      },
      {
       "output_type": "stream",
       "stream": "stdout",
       "text": [
        "\r",
        "  Downloading doit-0.24.0.tar.gz (340kB):   8%  28kB\r",
        "  Downloading doit-0.24.0.tar.gz (340kB):   9%  32kB\r",
        "  Downloading doit-0.24.0.tar.gz (340kB):  10%  36kB\r",
        "  Downloading doit-0.24.0.tar.gz (340kB):  12%  40kB\r",
        "  Downloading doit-0.24.0.tar.gz (340kB):  13%  45kB\r",
        "  Downloading doit-0.24.0.tar.gz (340kB):  14%  49kB"
       ]
      },
      {
       "output_type": "stream",
       "stream": "stdout",
       "text": [
        "\r",
        "  Downloading doit-0.24.0.tar.gz (340kB):  15%  53kB\r",
        "  Downloading doit-0.24.0.tar.gz (340kB):  16%  57kB\r",
        "  Downloading doit-0.24.0.tar.gz (340kB):  18%  61kB\r",
        "  Downloading doit-0.24.0.tar.gz (340kB):  19%  65kB\r",
        "  Downloading doit-0.24.0.tar.gz (340kB):  20%  69kB\r",
        "  Downloading doit-0.24.0.tar.gz (340kB):  21%  73kB"
       ]
      },
      {
       "output_type": "stream",
       "stream": "stdout",
       "text": [
        "\r",
        "  Downloading doit-0.24.0.tar.gz (340kB):  22%  77kB\r",
        "  Downloading doit-0.24.0.tar.gz (340kB):  24%  81kB\r",
        "  Downloading doit-0.24.0.tar.gz (340kB):  25%  86kB\r",
        "  Downloading doit-0.24.0.tar.gz (340kB):  26%  90kB\r",
        "  Downloading doit-0.24.0.tar.gz (340kB):  27%  94kB\r",
        "  Downloading doit-0.24.0.tar.gz (340kB):  28%  98kB\r",
        "  Downloading doit-0.24.0.tar.gz (340kB):  30%  102kB\r",
        "  Downloading doit-0.24.0.tar.gz (340kB):  31%  106kB"
       ]
      },
      {
       "output_type": "stream",
       "stream": "stdout",
       "text": [
        "\r",
        "  Downloading doit-0.24.0.tar.gz (340kB):  32%  110kB\r",
        "  Downloading doit-0.24.0.tar.gz (340kB):  33%  114kB\r",
        "  Downloading doit-0.24.0.tar.gz (340kB):  34%  118kB\r",
        "  Downloading doit-0.24.0.tar.gz (340kB):  36%  122kB"
       ]
      },
      {
       "output_type": "stream",
       "stream": "stdout",
       "text": [
        "\r",
        "  Downloading doit-0.24.0.tar.gz (340kB):  37%  126kB\r",
        "  Downloading doit-0.24.0.tar.gz (340kB):  38%  131kB\r",
        "  Downloading doit-0.24.0.tar.gz (340kB):  39%  135kB\r",
        "  Downloading doit-0.24.0.tar.gz (340kB):  40%  139kB\r",
        "  Downloading doit-0.24.0.tar.gz (340kB):  42%  143kB\r",
        "  Downloading doit-0.24.0.tar.gz (340kB):  43%  147kB"
       ]
      },
      {
       "output_type": "stream",
       "stream": "stdout",
       "text": [
        "\r",
        "  Downloading doit-0.24.0.tar.gz (340kB):  44%  151kB\r",
        "  Downloading doit-0.24.0.tar.gz (340kB):  45%  155kB\r",
        "  Downloading doit-0.24.0.tar.gz (340kB):  46%  159kB\r",
        "  Downloading doit-0.24.0.tar.gz (340kB):  48%  163kB\r",
        "  Downloading doit-0.24.0.tar.gz (340kB):  49%  167kB\r",
        "  Downloading doit-0.24.0.tar.gz (340kB):  50%  172kB\r",
        "  Downloading doit-0.24.0.tar.gz (340kB):  51%  176kB\r",
        "  Downloading doit-0.24.0.tar.gz (340kB):  52%  180kB"
       ]
      },
      {
       "output_type": "stream",
       "stream": "stdout",
       "text": [
        "\r",
        "  Downloading doit-0.24.0.tar.gz (340kB):  54%  184kB\r",
        "  Downloading doit-0.24.0.tar.gz (340kB):  55%  188kB\r",
        "  Downloading doit-0.24.0.tar.gz (340kB):  56%  192kB\r",
        "  Downloading doit-0.24.0.tar.gz (340kB):  57%  196kB\r",
        "  Downloading doit-0.24.0.tar.gz (340kB):  58%  200kB\r",
        "  Downloading doit-0.24.0.tar.gz (340kB):  60%  204kB\r",
        "  Downloading doit-0.24.0.tar.gz (340kB):  61%  208kB\r",
        "  Downloading doit-0.24.0.tar.gz (340kB):  62%  212kB\r",
        "  Downloading doit-0.24.0.tar.gz (340kB):  63%  217kB\r",
        "  Downloading doit-0.24.0.tar.gz (340kB):  64%  221kB\r",
        "  Downloading doit-0.24.0.tar.gz (340kB):  66%  225kB\r",
        "  Downloading doit-0.24.0.tar.gz (340kB):  67%  229kB"
       ]
      },
      {
       "output_type": "stream",
       "stream": "stdout",
       "text": [
        "\r",
        "  Downloading doit-0.24.0.tar.gz (340kB):  68%  233kB\r",
        "  Downloading doit-0.24.0.tar.gz (340kB):  69%  237kB\r",
        "  Downloading doit-0.24.0.tar.gz (340kB):  70%  241kB\r",
        "  Downloading doit-0.24.0.tar.gz (340kB):  72%  245kB\r",
        "  Downloading doit-0.24.0.tar.gz (340kB):  73%  249kB\r",
        "  Downloading doit-0.24.0.tar.gz (340kB):  74%  253kB\r",
        "  Downloading doit-0.24.0.tar.gz (340kB):  75%  258kB\r",
        "  Downloading doit-0.24.0.tar.gz (340kB):  76%  262kB\r",
        "  Downloading doit-0.24.0.tar.gz (340kB):  78%  266kB\r",
        "  Downloading doit-0.24.0.tar.gz (340kB):  79%  270kB\r",
        "  Downloading doit-0.24.0.tar.gz (340kB):  80%  274kB\r",
        "  Downloading doit-0.24.0.tar.gz (340kB):  81%  278kB"
       ]
      },
      {
       "output_type": "stream",
       "stream": "stdout",
       "text": [
        "\r",
        "  Downloading doit-0.24.0.tar.gz (340kB):  82%  282kB\r",
        "  Downloading doit-0.24.0.tar.gz (340kB):  84%  286kB\r",
        "  Downloading doit-0.24.0.tar.gz (340kB):  85%  290kB\r",
        "  Downloading doit-0.24.0.tar.gz (340kB):  86%  294kB\r",
        "  Downloading doit-0.24.0.tar.gz (340kB):  87%  299kB\r",
        "  Downloading doit-0.24.0.tar.gz (340kB):  89%  303kB\r",
        "  Downloading doit-0.24.0.tar.gz (340kB):  90%  307kB\r",
        "  Downloading doit-0.24.0.tar.gz (340kB):  91%  311kB\r",
        "  Downloading doit-0.24.0.tar.gz (340kB):  92%  315kB\r",
        "  Downloading doit-0.24.0.tar.gz (340kB):  93%  319kB\r",
        "  Downloading doit-0.24.0.tar.gz (340kB):  95%  323kB\r",
        "  Downloading doit-0.24.0.tar.gz (340kB):  96%  327kB\r",
        "  Downloading doit-0.24.0.tar.gz (340kB):  97%  331kB\r",
        "  Downloading doit-0.24.0.tar.gz (340kB):  98%  335kB\r",
        "  Downloading doit-0.24.0.tar.gz (340kB):  99%  339kB"
       ]
      },
      {
       "output_type": "stream",
       "stream": "stdout",
       "text": [
        "\r",
        "  Downloading doit-0.24.0.tar.gz (340kB): 100%  340kB\r",
        "  Downloading doit-0.24.0.tar.gz (340kB):            \r",
        "  Downloading doit-0.24.0.tar.gz (340kB): 340kB downloaded\r\n"
       ]
      },
      {
       "output_type": "stream",
       "stream": "stdout",
       "text": [
        "  Running setup.py egg_info for package doit\r\n"
       ]
      },
      {
       "output_type": "stream",
       "stream": "stdout",
       "text": [
        "    \r\n"
       ]
      },
      {
       "output_type": "stream",
       "stream": "stdout",
       "text": [
        "Downloading/unpacking six (from doit)\r\n"
       ]
      },
      {
       "output_type": "stream",
       "stream": "stdout",
       "text": [
        "  Downloading six-1.5.2.tar.gz\r\n"
       ]
      },
      {
       "output_type": "stream",
       "stream": "stdout",
       "text": [
        "  Running setup.py egg_info for package six\r\n"
       ]
      },
      {
       "output_type": "stream",
       "stream": "stdout",
       "text": [
        "    \r\n"
       ]
      },
      {
       "output_type": "stream",
       "stream": "stdout",
       "text": [
        "    no previously-included directories found matching 'documentation/_build'\r\n"
       ]
      },
      {
       "output_type": "stream",
       "stream": "stdout",
       "text": [
        "Downloading/unpacking macfsevents (from doit)\r\n"
       ]
      },
      {
       "output_type": "stream",
       "stream": "stdout",
       "text": [
        "  Downloading MacFSEvents-0.3.tar.gz\r\n"
       ]
      },
      {
       "output_type": "stream",
       "stream": "stdout",
       "text": [
        "  Running setup.py egg_info for package macfsevents\r\n"
       ]
      },
      {
       "output_type": "stream",
       "stream": "stdout",
       "text": [
        "    Downloading http://pypi.python.org/packages/source/d/distribute/distribute-0.6.34.tar.gz\r\n"
       ]
      },
      {
       "output_type": "stream",
       "stream": "stdout",
       "text": [
        "    Extracting in /var/folders/12/p4ngkfbx2pnb1ln81csjb19c0000gn/T/tmpv5ynQV\r\n"
       ]
      },
      {
       "output_type": "stream",
       "stream": "stdout",
       "text": [
        "    Now working in /var/folders/12/p4ngkfbx2pnb1ln81csjb19c0000gn/T/tmpv5ynQV/distribute-0.6.34\r\n",
        "    Building a Distribute egg in /private/var/folders/12/p4ngkfbx2pnb1ln81csjb19c0000gn/T/pip_build_Trevor/macfsevents\r\n"
       ]
      },
      {
       "output_type": "stream",
       "stream": "stdout",
       "text": [
        "    /private/var/folders/12/p4ngkfbx2pnb1ln81csjb19c0000gn/T/pip_build_Trevor/macfsevents/distribute-0.6.34-py2.7.egg\r\n",
        "    \r\n"
       ]
      },
      {
       "output_type": "stream",
       "stream": "stdout",
       "text": [
        "Installing collected packages: doit, six, macfsevents\r\n",
        "  Running setup.py install for doit\r\n"
       ]
      },
      {
       "output_type": "stream",
       "stream": "stdout",
       "text": [
        "    changing mode of build/scripts-2.7/doit from 644 to 755\r\n"
       ]
      },
      {
       "output_type": "stream",
       "stream": "stdout",
       "text": [
        "    \r\n"
       ]
      },
      {
       "output_type": "stream",
       "stream": "stdout",
       "text": [
        "    changing mode of /Users/Trevor/Library/Python/2.7/bin/doit to 755\r\n"
       ]
      },
      {
       "output_type": "stream",
       "stream": "stdout",
       "text": [
        "  Running setup.py install for six\r\n"
       ]
      },
      {
       "output_type": "stream",
       "stream": "stdout",
       "text": [
        "    \r\n"
       ]
      },
      {
       "output_type": "stream",
       "stream": "stdout",
       "text": [
        "    no previously-included directories found matching 'documentation/_build'\r\n",
        "  Running setup.py install for macfsevents\r\n"
       ]
      },
      {
       "output_type": "stream",
       "stream": "stdout",
       "text": [
        "    building '_fsevents' extension\r\n",
        "    clang -fno-strict-aliasing -fno-common -dynamic -I/usr/local/include -I/usr/local/opt/sqlite/include -DNDEBUG -g -fwrapv -O3 -Wall -Wstrict-prototypes -I/usr/local/Cellar/python/2.7.6/Frameworks/Python.framework/Versions/2.7/include/python2.7 -c _fsevents.c -o build/temp.macosx-10.9-x86_64-2.7/_fsevents.o\r\n"
       ]
      },
      {
       "output_type": "stream",
       "stream": "stdout",
       "text": [
        "    clang -bundle -undefined dynamic_lookup -L/usr/local/lib -L/usr/local/opt/sqlite/lib build/temp.macosx-10.9-x86_64-2.7/_fsevents.o -o build/lib.macosx-10.9-x86_64-2.7/_fsevents.so -framework CoreFoundation -framework CoreServices\r\n"
       ]
      },
      {
       "output_type": "stream",
       "stream": "stdout",
       "text": [
        "    \r\n"
       ]
      },
      {
       "output_type": "stream",
       "stream": "stdout",
       "text": [
        "Successfully installed doit six macfsevents\r\n",
        "Cleaning up...\r\n"
       ]
      }
     ],
     "prompt_number": 22
    },
    {
     "cell_type": "code",
     "collapsed": false,
     "input": [
      "!/usr/local/bin/pip freeze"
     ],
     "language": "python",
     "metadata": {},
     "outputs": [
      {
       "output_type": "stream",
       "stream": "stdout",
       "text": [
        "MacFSEvents==0.3\r\n",
        "bzr==2.6.0\r\n",
        "docopt==0.6.1\r\n",
        "doit==0.24.0\r\n",
        "lxml==3.2.3\r\n",
        "mercurial==2.7.2\r\n",
        "six==1.5.2\r\n",
        "stevedore==0.10\r\n",
        "virtualenv==1.10.1\r\n",
        "virtualenv-clone==0.2.4\r\n",
        "virtualenvwrapper==4.1.1\r\n",
        "wsgiref==0.1.2\r\n",
        "youtube-dl==2013.11.29\r\n"
       ]
      }
     ],
     "prompt_number": 23
    },
    {
     "cell_type": "code",
     "collapsed": false,
     "input": [
      "!ls /Users/Trevor/Library/Python/2.7/lib/python/site-packages/doit"
     ],
     "language": "python",
     "metadata": {},
     "outputs": [
      {
       "output_type": "stream",
       "stream": "stdout",
       "text": [
        "__init__.py        cmd_completion.pyc cmd_strace.py      exceptions.pyc\r\n",
        "__init__.pyc       cmd_dumpdb.py      cmd_strace.pyc     filewatch.py\r\n",
        "__main__.py        cmd_dumpdb.pyc     cmdparse.py        filewatch.pyc\r\n",
        "__main__.pyc       cmd_forget.py      cmdparse.pyc       loader.py\r\n",
        "action.py          cmd_forget.pyc     compat.py          loader.pyc\r\n",
        "action.pyc         cmd_help.py        compat.pyc         reporter.py\r\n",
        "cmd_auto.py        cmd_help.pyc       control.py         reporter.pyc\r\n",
        "cmd_auto.pyc       cmd_ignore.py      control.pyc        runner.py\r\n",
        "cmd_base.py        cmd_ignore.pyc     dependency.py      runner.pyc\r\n",
        "cmd_base.pyc       cmd_list.py        dependency.pyc     task.py\r\n",
        "cmd_clean.py       cmd_list.pyc       doit_cmd.py        task.pyc\r\n",
        "cmd_clean.pyc      cmd_run.py         doit_cmd.pyc       tools.py\r\n",
        "cmd_completion.py  cmd_run.pyc        exceptions.py      tools.pyc\r\n"
       ]
      }
     ],
     "prompt_number": 24
    },
    {
     "cell_type": "code",
     "collapsed": false,
     "input": [
      "!/usr/local/bin/pip uninstall doit MacFSEvents six --yes"
     ],
     "language": "python",
     "metadata": {},
     "outputs": [
      {
       "output_type": "stream",
       "stream": "stdout",
       "text": [
        "Uninstalling doit:\r\n",
        "  Successfully uninstalled doit\r\n",
        "Uninstalling MacFSEvents:\r\n",
        "  Successfully uninstalled MacFSEvents\r\n",
        "Uninstalling six:\r\n",
        "  Successfully uninstalled six\r\n"
       ]
      }
     ],
     "prompt_number": 25
    },
    {
     "cell_type": "markdown",
     "metadata": {},
     "source": [
      "## Virtual Python environments\n",
      "\n",
      "A \"virtual\" Python environment\n",
      "is a completely isolated copy of Python.\n",
      "This allows you to only install\n",
      "the packages that you are using\n",
      "for a particular project,\n",
      "and keep track what versions you're using.\n",
      "\n",
      "I made a virtual environment for the J. Neuroscience paper;\n",
      "this notebook is running in that environment\n",
      "(hence why I had to use `/usr/local/bin/X` above)."
     ]
    },
    {
     "cell_type": "code",
     "collapsed": false,
     "input": [
      "!which python"
     ],
     "language": "python",
     "metadata": {},
     "outputs": [
      {
       "output_type": "stream",
       "stream": "stdout",
       "text": [
        "/Users/Trevor/.virtualenvs/jneuro/bin/python\r\n"
       ]
      }
     ],
     "prompt_number": 26
    },
    {
     "cell_type": "markdown",
     "metadata": {},
     "source": [
      "We can look at what packages I'm using by inspecting this virtual environment."
     ]
    },
    {
     "cell_type": "code",
     "collapsed": false,
     "input": [
      "!pip freeze"
     ],
     "language": "python",
     "metadata": {},
     "outputs": [
      {
       "output_type": "stream",
       "stream": "stdout",
       "text": [
        "Cython==0.19.2\r\n",
        "Jinja2==2.7.1\r\n",
        "MacFSEvents==0.3\r\n",
        "MarkupSafe==0.18\r\n",
        "Pygments==1.6\r\n",
        "argparse==1.2.1\r\n",
        "doit==0.24.0\r\n",
        "ipython==1.1.0\r\n",
        "lxml==3.2.4\r\n",
        "matplotlib==1.3.1\r\n",
        "neo==0.3.1\r\n",
        "nose==1.3.0\r\n",
        "numexpr==2.2.2\r\n",
        "numpy==1.8.0\r\n",
        "pyparsing==2.0.1\r\n",
        "python-dateutil==2.2\r\n",
        "pyzmq==14.0.0\r\n",
        "quantities==0.10.1\r\n",
        "requests==2.0.1\r\n",
        "scipy==0.13.1\r\n",
        "six==1.4.1\r\n",
        "svgutils==0.1.0\r\n",
        "table==0.0.4\r\n",
        "tables==3.0.0\r\n",
        "tornado==3.1.1\r\n",
        "wsgiref==0.1.2\r\n"
       ]
      }
     ],
     "prompt_number": 27
    },
    {
     "cell_type": "markdown",
     "metadata": {},
     "source": [
      "This means that I can play around with packages\n",
      "without worrying that I'm cluttering\n",
      "my machine with extra packages.\n",
      "I can also use the latest versions of certain packages,\n",
      "even if my operating system doesn't have the latest available."
     ]
    },
    {
     "cell_type": "code",
     "collapsed": false,
     "input": [
      "!/usr/local/bin/pip freeze | grep \"numpy\"\n",
      "!pip freeze | grep \"numpy\""
     ],
     "language": "python",
     "metadata": {},
     "outputs": [
      {
       "output_type": "stream",
       "stream": "stdout",
       "text": [
        "\u001b[37;45m\u001b[Knumpy\u001b[m\u001b[K==1.7.1\r\n"
       ]
      },
      {
       "output_type": "stream",
       "stream": "stdout",
       "text": [
        "\u001b[37;45m\u001b[Knumpy\u001b[m\u001b[K==1.8.0\r\n"
       ]
      }
     ],
     "prompt_number": 30
    },
    {
     "cell_type": "markdown",
     "metadata": {},
     "source": [
      "Other people can get a copy of this virtual environment\n",
      "by installing the same set of packages.\n",
      "I can easily generate this list of packages\n",
      "with `pip freeze`, and then share it."
     ]
    },
    {
     "cell_type": "code",
     "collapsed": false,
     "input": [
      "!cat ../jneurosci2013/requirements.txt"
     ],
     "language": "python",
     "metadata": {},
     "outputs": [
      {
       "output_type": "stream",
       "stream": "stdout",
       "text": [
        "Cython\r\n",
        "Jinja2\r\n",
        "MarkupSafe\r\n",
        "Pygments\r\n",
        "argparse\r\n",
        "doit\r\n",
        "ipython\r\n",
        "lxml\r\n",
        "matplotlib\r\n",
        "neo\r\n",
        "nose\r\n",
        "numexpr\r\n",
        "numpy\r\n",
        "pyparsing\r\n",
        "python-dateutil\r\n",
        "pyzmq\r\n",
        "quantities\r\n",
        "requests\r\n",
        "scipy\r\n",
        "six\r\n",
        "svgutils\r\n",
        "tables\r\n",
        "tornado\r\n",
        "wsgiref\r\n"
       ]
      }
     ],
     "prompt_number": 32
    },
    {
     "cell_type": "markdown",
     "metadata": {},
     "source": [
      "# Resources\n",
      "\n",
      "- Good introductory guide from [The Hitchhiker's Guide to Python](http://docs.python-guide.org/en/latest/dev/virtualenvs/)"
     ]
    },
    {
     "cell_type": "code",
     "collapsed": false,
     "input": [
      "# Nice introductory video on virtualenv\n",
      "from IPython.display import YouTubeVideo\n",
      "YouTubeVideo('IX-v6yvGYFg')"
     ],
     "language": "python",
     "metadata": {},
     "outputs": [
      {
       "html": [
        "\n",
        "        <iframe\n",
        "            width=\"400\"\n",
        "            height=300\"\n",
        "            src=\"http://www.youtube.com/embed/IX-v6yvGYFg\"\n",
        "            frameborder=\"0\"\n",
        "            allowfullscreen\n",
        "        ></iframe>\n",
        "        "
       ],
       "metadata": {},
       "output_type": "pyout",
       "prompt_number": 33,
       "text": [
        "<IPython.lib.display.YouTubeVideo at 0x1029a7650>"
       ]
      }
     ],
     "prompt_number": 33
    },
    {
     "cell_type": "code",
     "collapsed": false,
     "input": [
      "# Nice introductory video on virtualenvwrapper\n",
      "from IPython.display import YouTubeVideo\n",
      "YouTubeVideo('UcbUXq0wd-8')"
     ],
     "language": "python",
     "metadata": {},
     "outputs": [
      {
       "html": [
        "\n",
        "        <iframe\n",
        "            width=\"400\"\n",
        "            height=300\"\n",
        "            src=\"http://www.youtube.com/embed/UcbUXq0wd-8\"\n",
        "            frameborder=\"0\"\n",
        "            allowfullscreen\n",
        "        ></iframe>\n",
        "        "
       ],
       "metadata": {},
       "output_type": "pyout",
       "prompt_number": 34,
       "text": [
        "<IPython.lib.display.YouTubeVideo at 0x1029a7a50>"
       ]
      }
     ],
     "prompt_number": 34
    }
   ],
   "metadata": {}
  }
 ]
}