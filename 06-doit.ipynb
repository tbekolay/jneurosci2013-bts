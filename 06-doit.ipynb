{
 "metadata": {
  "name": ""
 },
 "nbformat": 3,
 "nbformat_minor": 0,
 "worksheets": [
  {
   "cells": [
    {
     "cell_type": "markdown",
     "metadata": {},
     "source": [
      "# Managing all your tasks with `doit`\n",
      "\n",
      "`doit` allows you to run all\n",
      "of your tasks by defining them\n",
      "in one Python script.\n",
      "This has a number of benefits:\n",
      "\n",
      "- Keeps all tasks in one (unforgettable) place.\n",
      "- Provides a unified, documented interface.\n",
      "- Tasks can be run in parallel.\n",
      "- Tasks can be automatically cached.\n",
      "\n",
      "`doit` is basically a modern `make` written in Python.\n",
      "\n",
      "## Example\n",
      "\n",
      "To define a task, make a function that starts with\n",
      "`task_` and that returns a dictionary."
     ]
    },
    {
     "cell_type": "code",
     "collapsed": false,
     "input": [
      "from doit.cmd_base import ModuleTaskLoader\n",
      "from doit.doit_cmd import DoitMain\n",
      "import neo\n",
      "import matplotlib.pyplot as plt\n",
      "import numpy as np\n",
      "import quantities as pq\n",
      "\n",
      "def plot_spiketrains(data, filename):\n",
      "    seg = data.segments[0]\n",
      "    plt.figure(figsize=(8,4))\n",
      "    plt.title(seg.file_origin)\n",
      "    trains = [st.rescale('s').magnitude for st in seg.spiketrains]\n",
      "    colors = plt.cm.jet(np.linspace(0, 1, len(seg.spiketrains)))\n",
      "    plt.ylim(len(trains)-0.5, -0.5)\n",
      "    plt.xlim(0, 5)\n",
      "    plt.ylabel('Neuron')\n",
      "    plt.xlabel('Time (s)')\n",
      "    plt.eventplot(trains, colors=colors, rasterized=True)\n",
      "    plt.savefig(filename)\n",
      "    plt.close()\n",
      "\n",
      "def task_plot_spiketrains():\n",
      "    plexon = neo.io.PlexonIO(filename='data.plx')\n",
      "    data = plexon.read(cascade=True, lazy=False)[0]\n",
      "\n",
      "    return {'actions': [(plot_spiketrains, [data, 'plexon.svg'])],\n",
      "            'file_dep': ['test.py'],\n",
      "            'targets': ['plexon.svg']}"
     ],
     "language": "python",
     "metadata": {},
     "outputs": [],
     "prompt_number": 1
    },
    {
     "cell_type": "code",
     "collapsed": false,
     "input": [
      "!rm plexon.svg\n",
      "!ls -1 *.svg"
     ],
     "language": "python",
     "metadata": {},
     "outputs": [
      {
       "output_type": "stream",
       "stream": "stdout",
       "text": [
        "figure.svg\r\n",
        "nex.svg\r\n"
       ]
      }
     ],
     "prompt_number": 2
    },
    {
     "cell_type": "code",
     "collapsed": false,
     "input": [
      "%%time\n",
      "# Normally we do this from the command line with\n",
      "#  doit\n",
      "DoitMain(ModuleTaskLoader(locals())).run([])\n",
      "!ls -1 *.svg"
     ],
     "language": "python",
     "metadata": {},
     "outputs": [
      {
       "output_type": "stream",
       "stream": "stdout",
       "text": [
        ".  plot_spiketrains\n",
        "figure.svg\r\n",
        "nex.svg\r\n",
        "plexon.svg\r\n"
       ]
      },
      {
       "output_type": "stream",
       "stream": "stdout",
       "text": [
        "CPU times: user 1.41 s, sys: 42.7 ms, total: 1.46 s\n",
        "Wall time: 1.57 s\n"
       ]
      }
     ],
     "prompt_number": 3
    },
    {
     "cell_type": "markdown",
     "metadata": {},
     "source": [
      "By defining the dependencies and targets,\n",
      "we get caching for free.\n",
      "However, this is file-based,\n",
      "meaning that this works best if each function\n",
      "depends on files and outputs files.\n",
      "For data analysis,\n",
      "forcing yourself to work this way\n",
      "ends up being very beneficial,\n",
      "even though it may seem cumbersome.\n",
      "(Note that you can write custom functions\n",
      "to tell if a task needs to be rerun\n",
      "if using files really doesn't make sense for your project.)"
     ]
    },
    {
     "cell_type": "code",
     "collapsed": false,
     "input": [
      "cd ../jneurosci2013"
     ],
     "language": "python",
     "metadata": {},
     "outputs": [
      {
       "output_type": "stream",
       "stream": "stdout",
       "text": [
        "/Users/Trevor/Code/jneurosci2013\n"
       ]
      }
     ],
     "prompt_number": 4
    },
    {
     "cell_type": "code",
     "collapsed": false,
     "input": [
      "!doit list"
     ],
     "language": "python",
     "metadata": {},
     "outputs": [
      {
       "output_type": "stream",
       "stream": "stdout",
       "text": [
        "analyze         Analyze H5 files and save results in PKL.\r\n",
        "combine         Combine the SVG plots together into full PDF figures.\r\n",
        "convert         Convert CSV files to H5.\r\n",
        "download_data   Downloads analyzed data from Figshare.\r\n",
        "paper           Generate the paper with pdflatex.\r\n",
        "plot            Make plots out of the analyzed PKL files.\r\n",
        "rebuttal        Generate the rebuttal letter with pdflatex.\r\n",
        "setup_nengo     Make sure scripts will run from Nengo.\r\n",
        "sim_ctrl        Run a control circuit simulation.\r\n",
        "sim_dint        Run a double-integrator simulation.\r\n"
       ]
      }
     ],
     "prompt_number": 5
    },
    {
     "cell_type": "code",
     "collapsed": false,
     "input": [
      "!doit list --all"
     ],
     "language": "python",
     "metadata": {},
     "outputs": [
      {
       "output_type": "stream",
       "stream": "stdout",
       "text": [
        "analyze                                Analyze H5 files and save results in PKL.\r\n",
        "analyze:ctrl-adaptive-35.pkl           \r\n",
        "analyze:ctrl-adaptive-39.pkl           \r\n",
        "analyze:ctrl-adaptive-426.pkl          \r\n",
        "analyze:ctrl-adaptive-600.pkl          \r\n",
        "analyze:ctrl-adaptive-601.pkl          \r\n",
        "analyze:ctrl-adaptive-700.pkl          \r\n",
        "analyze:ctrl-adaptive-702.pkl          \r\n",
        "analyze:ctrl-adaptive-703.pkl          \r\n",
        "analyze:ctrl-adaptive-706.pkl          \r\n",
        "analyze:ctrl-adaptive-707.pkl          \r\n",
        "analyze:ctrl-adaptive-761.pkl          \r\n",
        "analyze:ctrl-adaptive.pkl              \r\n",
        "analyze:ctrl-simple-308.pkl            \r\n",
        "analyze:ctrl-simple-342.pkl            \r\n",
        "analyze:ctrl-simple-420.pkl            \r\n",
        "analyze:ctrl-simple-437.pkl            \r\n",
        "analyze:ctrl-simple-606.pkl            \r\n",
        "analyze:ctrl-simple-620.pkl            \r\n",
        "analyze:ctrl-simple-658.pkl            \r\n",
        "analyze:ctrl-simple-702.pkl            \r\n",
        "analyze:ctrl-simple-857.pkl            \r\n",
        "analyze:ctrl-simple-93.pkl             \r\n",
        "analyze:ctrl-simple-996.pkl            \r\n",
        "analyze:ctrl-simple.pkl                \r\n",
        "analyze:dint-cc-917.pkl                \r\n",
        "analyze:dint-lc-931.pkl                \r\n",
        "analyze:dint-pc-931.pkl                \r\n",
        "analyze:ds_c.pkl                       \r\n",
        "analyze:ds_l.pkl                       \r\n",
        "analyze:ds_p.pkl                       \r\n",
        "analyze:expt.pkl                       \r\n",
        "combine                                Combine the SVG plots together into full PDF figures.\r\n",
        "combine:fig1                           \r\n",
        "combine:fig10                          \r\n",
        "combine:fig2                           \r\n",
        "combine:fig3                           \r\n",
        "combine:fig4                           \r\n",
        "combine:fig5                           \r\n",
        "combine:fig6                           \r\n",
        "combine:fig7                           \r\n",
        "combine:fig8                           \r\n",
        "combine:fig9                           \r\n",
        "convert                                Convert CSV files to H5.\r\n",
        "download_data                          Downloads analyzed data from Figshare.\r\n",
        "paper                                  Generate the paper with pdflatex.\r\n",
        "plot                                   Make plots out of the analyzed PKL files.\r\n",
        "plot:ctrl-adaptive-35_c_signals.svg    \r\n",
        "plot:ctrl-adaptive-35_c_traj.svg       \r\n",
        "plot:ctrl-adaptive-35_l_signals.svg    \r\n",
        "plot:ctrl-adaptive-35_l_traj.svg       \r\n",
        "plot:ctrl-adaptive-35_p_signals.svg    \r\n",
        "plot:ctrl-adaptive-35_p_traj.svg       \r\n",
        "plot:ctrl-adaptive-39_c_signals.svg    \r\n",
        "plot:ctrl-adaptive-39_c_traj.svg       \r\n",
        "plot:ctrl-adaptive-39_l_signals.svg    \r\n",
        "plot:ctrl-adaptive-39_l_traj.svg       \r\n",
        "plot:ctrl-adaptive-39_p_signals.svg    \r\n",
        "plot:ctrl-adaptive-39_p_traj.svg       \r\n",
        "plot:ctrl-adaptive-426_c_signals.svg   \r\n",
        "plot:ctrl-adaptive-426_c_traj.svg      \r\n",
        "plot:ctrl-adaptive-426_l_signals.svg   \r\n",
        "plot:ctrl-adaptive-426_l_traj.svg      \r\n",
        "plot:ctrl-adaptive-426_p_signals.svg   \r\n",
        "plot:ctrl-adaptive-426_p_traj.svg      \r\n",
        "plot:ctrl-adaptive-600_c_signals.svg   \r\n",
        "plot:ctrl-adaptive-600_c_traj.svg      \r\n",
        "plot:ctrl-adaptive-600_l_signals.svg   \r\n",
        "plot:ctrl-adaptive-600_l_traj.svg      \r\n",
        "plot:ctrl-adaptive-600_p_signals.svg   \r\n",
        "plot:ctrl-adaptive-600_p_traj.svg      \r\n",
        "plot:ctrl-adaptive-601_c_signals.svg   \r\n",
        "plot:ctrl-adaptive-601_c_traj.svg      \r\n",
        "plot:ctrl-adaptive-601_l_signals.svg   \r\n",
        "plot:ctrl-adaptive-601_l_traj.svg      \r\n",
        "plot:ctrl-adaptive-601_p_signals.svg   \r\n",
        "plot:ctrl-adaptive-601_p_traj.svg      \r\n",
        "plot:ctrl-adaptive-700_c_signals.svg   \r\n",
        "plot:ctrl-adaptive-700_c_traj.svg      \r\n",
        "plot:ctrl-adaptive-700_l_signals.svg   \r\n",
        "plot:ctrl-adaptive-700_l_traj.svg      \r",
        "\r\n",
        "plot:ctrl-adaptive-700_p_signals.svg   \r\n",
        "plot:ctrl-adaptive-700_p_traj.svg      \r\n",
        "plot:ctrl-adaptive-702_c_signals.svg   \r\n",
        "plot:ctrl-adaptive-702_c_traj.svg      \r\n",
        "plot:ctrl-adaptive-702_l_signals.svg   \r\n",
        "plot:ctrl-adaptive-702_l_traj.svg      \r\n",
        "plot:ctrl-adaptive-702_p_signals.svg   \r\n",
        "plot:ctrl-adaptive-702_p_traj.svg      \r\n",
        "plot:ctrl-adaptive-703_c_signals.svg   \r\n",
        "plot:ctrl-adaptive-703_c_traj.svg      \r\n",
        "plot:ctrl-adaptive-703_l_signals.svg   \r\n",
        "plot:ctrl-adaptive-703_l_traj.svg      \r\n",
        "plot:ctrl-adaptive-703_p_signals.svg   \r\n",
        "plot:ctrl-adaptive-703_p_traj.svg      \r\n",
        "plot:ctrl-adaptive-706_c_signals.svg   \r\n",
        "plot:ctrl-adaptive-706_c_traj.svg      \r\n",
        "plot:ctrl-adaptive-706_l_signals.svg   \r\n",
        "plot:ctrl-adaptive-706_l_traj.svg      \r\n",
        "plot:ctrl-adaptive-706_p_signals.svg   \r\n",
        "plot:ctrl-adaptive-706_p_traj.svg      \r\n",
        "plot:ctrl-adaptive-707_c_signals.svg   \r\n",
        "plot:ctrl-adaptive-707_c_traj.svg      \r\n",
        "plot:ctrl-adaptive-707_l_signals.svg   \r\n",
        "plot:ctrl-adaptive-707_l_traj.svg      \r\n",
        "plot:ctrl-adaptive-707_p_signals.svg   \r\n",
        "plot:ctrl-adaptive-707_p_traj.svg      \r\n",
        "plot:ctrl-adaptive-761_c_signals.svg   \r\n",
        "plot:ctrl-adaptive-761_c_traj.svg      \r\n",
        "plot:ctrl-adaptive-761_l_signals.svg   \r\n",
        "plot:ctrl-adaptive-761_l_traj.svg      \r\n",
        "plot:ctrl-adaptive-761_p_signals.svg   \r\n",
        "plot:ctrl-adaptive-761_p_traj.svg      \r\n",
        "plot:ctrl-adaptive_perf.svg            \r\n",
        "plot:ctrl-adaptive_rts.svg             \r\n",
        "plot:ctrl-simple-308_c_signals.svg     \r\n",
        "plot:ctrl-simple-308_l_signals.svg     \r\n",
        "plot:ctrl-simple-308_p_signals.svg     \r\n",
        "plot:ctrl-simple-342_c_signals.svg     \r\n",
        "plot:ctrl-simple-342_l_signals.svg     \r\n",
        "plot:ctrl-simple-342_p_signals.svg     \r\n",
        "plot:ctrl-simple-420_c_signals.svg     \r\n",
        "plot:ctrl-simple-420_l_signals.svg     \r\n",
        "plot:ctrl-simple-420_p_signals.svg     \r\n",
        "plot:ctrl-simple-437_c_signals.svg     \r\n",
        "plot:ctrl-simple-437_l_signals.svg     \r\n",
        "plot:ctrl-simple-437_p_signals.svg     \r\n",
        "plot:ctrl-simple-606_c_signals.svg     \r\n",
        "plot:ctrl-simple-606_l_signals.svg     \r\n",
        "plot:ctrl-simple-606_p_signals.svg     \r\n",
        "plot:ctrl-simple-620_c_signals.svg     \r\n",
        "plot:ctrl-simple-620_l_signals.svg     \r\n",
        "plot:ctrl-simple-620_p_signals.svg     \r\n",
        "plot:ctrl-simple-658_c_signals.svg     \r\n",
        "plot:ctrl-simple-658_l_signals.svg     \r\n",
        "plot:ctrl-simple-658_p_signals.svg     \r\n",
        "plot:ctrl-simple-702_c_signals.svg     \r\n",
        "plot:ctrl-simple-702_l_signals.svg     \r\n",
        "plot:ctrl-simple-702_p_signals.svg     \r\n",
        "plot:ctrl-simple-857_c_signals.svg     \r\n",
        "plot:ctrl-simple-857_l_signals.svg     \r\n",
        "plot:ctrl-simple-857_p_signals.svg     \r\n",
        "plot:ctrl-simple-93_c_signals.svg      \r\n",
        "plot:ctrl-simple-93_l_signals.svg      \r\n",
        "plot:ctrl-simple-93_p_signals.svg      \r\n",
        "plot:ctrl-simple-996_c_signals.svg     \r\n",
        "plot:ctrl-simple-996_l_signals.svg     \r\n",
        "plot:ctrl-simple-996_p_signals.svg     \r\n",
        "plot:ctrl-simple_perf.svg              \r\n",
        "plot:ctrl-simple_rts.svg               \r\n",
        "plot:dint-cc-917_dint_pc.svg           \r\n",
        "plot:dint-cc-917_sint_pc.svg           \r\n",
        "plot:dint-lc-931_dint_pc.svg           \r\n",
        "plot:dint-lc-931_sint_pc.svg           \r\n",
        "plot:dint-pc-931_dint_pc.svg           \r\n",
        "plot:dint-pc-931_sint_pc.svg           \r\n",
        "plot:ds_c_adaptive_c.svg               \r\n",
        "plot:ds_c_adaptive_pc.svg              \r\n",
        "plot:ds_c_learn.svg                    \r\n",
        "plot:ds_c_param_R.svg                  \r\n",
        "plot:ds_c_param_beta.svg               \r\n",
        "plot:ds_c_param_ics.svg                \r\n",
        "plot:ds_c_simple.svg                   \r\n",
        "plot:ds_c_simple_sig.svg               \r\n",
        "plot:ds_l_learn.svg                    \r\n",
        "plot:ds_l_param_E.svg                  \r\n",
        "plot:ds_l_simple_sig.svg               \r\n",
        "plot:ds_p_adaptive_p.svg               \r\n",
        "plot:ds_p_learn.svg                    \r\n",
        "plot:ds_p_simple_sig.svg               \r\n",
        "plot:expt_perf.svg                     \r\n",
        "plot:expt_rts.svg                      \r\n",
        "rebuttal                               Generate the rebuttal letter with pdflatex.\r\n",
        "setup_nengo                            Make sure scripts will run from Nengo.\r\n",
        "sim_ctrl                               Run a control circuit simulation.\r\n",
        "sim_dint                               Run a double-integrator simulation.\r\n"
       ]
      }
     ],
     "prompt_number": 6
    },
    {
     "cell_type": "code",
     "collapsed": false,
     "input": [
      "cd ../jneurosci2013-bts"
     ],
     "language": "python",
     "metadata": {},
     "outputs": [
      {
       "output_type": "stream",
       "stream": "stdout",
       "text": [
        "/Users/Trevor/Code/jneurosci2013-bts\n"
       ]
      }
     ],
     "prompt_number": 7
    },
    {
     "cell_type": "code",
     "collapsed": false,
     "input": [
      "def task_plot_spiketrains():\n",
      "    plexon = neo.io.PlexonIO(filename='data.plx')\n",
      "    data = plexon.read(cascade=True, lazy=False)[0]\n",
      "    yield {'name': 'plexon',\n",
      "           'actions': [(plot_spiketrains, [data, 'plexon.svg'])],\n",
      "           'file_dep': ['test.py'],\n",
      "           'targets': ['plexon.svg']}\n",
      "    \n",
      "    nex = neo.io.NeuroExplorerIO(filename='data.nex')\n",
      "    data = nex.read(cascade=True, lazy=False)[0]\n",
      "    yield {'name': 'nex',\n",
      "           'actions': [(plot_spiketrains, [data, 'nex.svg'])],\n",
      "           'file_dep': ['test.py'],\n",
      "           'targets': ['nex.svg']}"
     ],
     "language": "python",
     "metadata": {},
     "outputs": [],
     "prompt_number": 8
    },
    {
     "cell_type": "code",
     "collapsed": false,
     "input": [
      "!rm plexon.svg nex.svg\n",
      "!ls -1 *.svg"
     ],
     "language": "python",
     "metadata": {},
     "outputs": [
      {
       "output_type": "stream",
       "stream": "stdout",
       "text": [
        "figure.svg\r\n"
       ]
      }
     ],
     "prompt_number": 12
    },
    {
     "cell_type": "code",
     "collapsed": false,
     "input": [
      "%%time\n",
      "# doit\n",
      "DoitMain(ModuleTaskLoader(locals())).run([])\n",
      "!ls -1 *.svg"
     ],
     "language": "python",
     "metadata": {},
     "outputs": [
      {
       "output_type": "stream",
       "stream": "stdout",
       "text": [
        ".  plot_spiketrains:plexon\n",
        ".  plot_spiketrains:nex\n"
       ]
      },
      {
       "output_type": "stream",
       "stream": "stdout",
       "text": [
        "figure.svg\r\n",
        "nex.svg\r\n",
        "plexon.svg\r\n"
       ]
      },
      {
       "output_type": "stream",
       "stream": "stdout",
       "text": [
        "CPU times: user 3.55 s, sys: 80.1 ms, total: 3.63 s\n",
        "Wall time: 3.76 s\n"
       ]
      }
     ],
     "prompt_number": 10
    },
    {
     "cell_type": "markdown",
     "metadata": {},
     "source": [
      "Running many similar tasks\n",
      "(e.g., on different data files)\n",
      "is easy.\n",
      "But even nicer is that,\n",
      "as long as tasks don't depend on each other,\n",
      "they can be run in parallel."
     ]
    },
    {
     "cell_type": "code",
     "collapsed": false,
     "input": [
      "%%time\n",
      "# doit -n 2\n",
      "DoitMain(ModuleTaskLoader(locals())).run(['-n 2'])\n",
      "!ls -1 *.svg"
     ],
     "language": "python",
     "metadata": {},
     "outputs": [
      {
       "output_type": "stream",
       "stream": "stdout",
       "text": [
        ".  plot_spiketrains:plexon\n",
        ".  plot_spiketrains:nex\n",
        "figure.svg\r\n",
        "nex.svg\r\n",
        "plexon.svg\r\n"
       ]
      },
      {
       "output_type": "stream",
       "stream": "stdout",
       "text": [
        "CPU times: user 1.28 s, sys: 42.7 ms, total: 1.32 s\n",
        "Wall time: 3.52 s\n"
       ]
      }
     ],
     "prompt_number": 13
    },
    {
     "cell_type": "markdown",
     "metadata": {},
     "source": [
      "It's easy to run shell commands with `doit` too.\n",
      "Make a quick task so that you never forget\n",
      "how you invoked a certain tool."
     ]
    },
    {
     "cell_type": "code",
     "collapsed": false,
     "input": [
      "def task_latex():\n",
      "    return {'actions': ['pdflatex -interaction=batchmode text.tex',\n",
      "                        'rm text.log'],\n",
      "            'file_dep': ['text.tex'],\n",
      "            'targets': ['text.pdf']}"
     ],
     "language": "python",
     "metadata": {},
     "outputs": [],
     "prompt_number": 14
    },
    {
     "cell_type": "code",
     "collapsed": false,
     "input": [
      "%%time\n",
      "# doit -n 2\n",
      "DoitMain(ModuleTaskLoader(locals())).run(['-n 2'])\n",
      "!ls -1 *.svg *.pdf"
     ],
     "language": "python",
     "metadata": {},
     "outputs": [
      {
       "output_type": "stream",
       "stream": "stdout",
       "text": [
        "-- plot_spiketrains:plexon\n",
        "-- plot_spiketrains:nex\n"
       ]
      },
      {
       "output_type": "stream",
       "stream": "stdout",
       "text": [
        ".  latex\n",
        "figure.svg\r\n",
        "nex.svg\r\n",
        "paper.pdf\r\n",
        "plexon.svg\r\n",
        "text.pdf\r\n"
       ]
      },
      {
       "output_type": "stream",
       "stream": "stdout",
       "text": [
        "CPU times: user 1.39 s, sys: 39.5 ms, total: 1.43 s\n",
        "Wall time: 1.67 s\n"
       ]
      }
     ],
     "prompt_number": 17
    },
    {
     "cell_type": "markdown",
     "metadata": {},
     "source": [
      "# Resources\n",
      "\n",
      "- [`doit` documentation](http://pydoit.org/)\n",
      "- [My `dodo.py`](https://github.com/tbekolay/jneurosci2013/blob/master/dodo.py)"
     ]
    }
   ],
   "metadata": {}
  }
 ]
}